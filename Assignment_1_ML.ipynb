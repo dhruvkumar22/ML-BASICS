{
  "nbformat": 4,
  "nbformat_minor": 0,
  "metadata": {
    "colab": {
      "name": "Assignment_1_ML.ipynb",
      "provenance": [],
      "authorship_tag": "ABX9TyMPAXqAd6J1C2mT3lPCS3B3",
      "include_colab_link": true
    },
    "kernelspec": {
      "name": "python3",
      "display_name": "Python 3"
    }
  },
  "cells": [
    {
      "cell_type": "markdown",
      "metadata": {
        "id": "view-in-github",
        "colab_type": "text"
      },
      "source": [
        "<a href=\"https://colab.research.google.com/github/dhruvkumar22/ML-BASICS/blob/master/Assignment_1_ML.ipynb\" target=\"_parent\"><img src=\"https://colab.research.google.com/assets/colab-badge.svg\" alt=\"Open In Colab\"/></a>"
      ]
    },
    {
      "cell_type": "code",
      "metadata": {
        "id": "ZLsRUN8kuE18",
        "colab_type": "code",
        "colab": {}
      },
      "source": [
        "import numpy as np\n",
        "import matplotlib.pyplot as plt\n",
        "import pandas as pd\n"
      ],
      "execution_count": 0,
      "outputs": []
    },
    {
      "cell_type": "code",
      "metadata": {
        "id": "6injOz3UvNr6",
        "colab_type": "code",
        "colab": {}
      },
      "source": [
        "dataset1 = pd.read_csv('Linear_X_Test.csv')\n",
        "dataset2 = pd.read_csv('Linear_X_Train.csv')\n",
        "dataset3 = pd.read_csv('Linear_Y_Train.csv')\n",
        "\n",
        "X_Train = dataset2.iloc[:,:].values\n",
        "X_Test = dataset1.iloc[:,:].values\n",
        "Y_Train = dataset3.iloc[:,:].values"
      ],
      "execution_count": 0,
      "outputs": []
    },
    {
      "cell_type": "code",
      "metadata": {
        "id": "A-qpJ1VmxS1H",
        "colab_type": "code",
        "outputId": "66fdecfa-84e4-4847-e60e-b7d26f4deb0b",
        "colab": {
          "base_uri": "https://localhost:8080/",
          "height": 136
        }
      },
      "source": [
        "print(X_Train) "
      ],
      "execution_count": 53,
      "outputs": [
        {
          "output_type": "stream",
          "text": [
            "[[-0.28930742]\n",
            " [-0.58880963]\n",
            " [ 1.02750749]\n",
            " ...\n",
            " [-0.30516366]\n",
            " [ 1.67583291]\n",
            " [-0.49175724]]\n"
          ],
          "name": "stdout"
        }
      ]
    },
    {
      "cell_type": "code",
      "metadata": {
        "id": "HgJMYgoU6VH-",
        "colab_type": "code",
        "outputId": "50f60a58-cef9-4b80-fb98-20f6a074adb6",
        "colab": {
          "base_uri": "https://localhost:8080/",
          "height": 136
        }
      },
      "source": [
        "print(X_Test)"
      ],
      "execution_count": 54,
      "outputs": [
        {
          "output_type": "stream",
          "text": [
            "[[-1.87794441]\n",
            " [-0.86903192]\n",
            " [-2.53018242]\n",
            " ...\n",
            " [ 0.12800782]\n",
            " [-0.27803759]\n",
            " [-0.68042543]]\n"
          ],
          "name": "stdout"
        }
      ]
    },
    {
      "cell_type": "code",
      "metadata": {
        "id": "0L7Nb9w06gf_",
        "colab_type": "code",
        "outputId": "613fdcfa-7f12-4de3-c656-2dedee83b407",
        "colab": {
          "base_uri": "https://localhost:8080/",
          "height": 136
        }
      },
      "source": [
        "print(Y_Train)"
      ],
      "execution_count": 55,
      "outputs": [
        {
          "output_type": "stream",
          "text": [
            "[[-9.11011171e-02]\n",
            " [-5.34677208e+01]\n",
            " [ 7.54570088e+01]\n",
            " ...\n",
            " [-3.49832749e+01]\n",
            " [ 1.45206092e+02]\n",
            " [-1.71244939e+01]]\n"
          ],
          "name": "stdout"
        }
      ]
    },
    {
      "cell_type": "code",
      "metadata": {
        "id": "S-fpwrYg688F",
        "colab_type": "code",
        "outputId": "2a3ff097-763f-4122-85b7-f0b497d3445e",
        "colab": {
          "base_uri": "https://localhost:8080/",
          "height": 34
        }
      },
      "source": [
        "from sklearn.linear_model import LinearRegression\n",
        "regressor = LinearRegression()\n",
        "regressor.fit(X_Train, Y_Train)"
      ],
      "execution_count": 56,
      "outputs": [
        {
          "output_type": "execute_result",
          "data": {
            "text/plain": [
              "LinearRegression(copy_X=True, fit_intercept=True, n_jobs=None, normalize=False)"
            ]
          },
          "metadata": {
            "tags": []
          },
          "execution_count": 56
        }
      ]
    },
    {
      "cell_type": "code",
      "metadata": {
        "id": "qH3PcHRb8UJW",
        "colab_type": "code",
        "colab": {}
      },
      "source": [
        "Y_Pred = regressor.predict(X_Test)"
      ],
      "execution_count": 0,
      "outputs": []
    },
    {
      "cell_type": "code",
      "metadata": {
        "id": "hy3DGLLU8hNq",
        "colab_type": "code",
        "outputId": "ba91a246-a12f-4989-8164-ac87c487f80a",
        "colab": {
          "base_uri": "https://localhost:8080/",
          "height": 295
        }
      },
      "source": [
        "plt.scatter(X_Train, Y_Train, color = 'red')\n",
        "plt.plot(X_Train, regressor.predict(X_Train), color = 'blue')\n",
        "plt.title('Performance In The Evaluation Exam')\n",
        "plt.xlabel('Time Spent on Coding Daily')\n",
        "plt.ylabel('Marks')\n",
        "plt.show()"
      ],
      "execution_count": 58,
      "outputs": [
        {
          "output_type": "display_data",
          "data": {
            "image/png": "[encoded data removed]",
            "text/plain": [
              "<Figure size 432x288 with 1 Axes>"
            ]
          },
          "metadata": {
            "tags": [],
            "needs_background": "light"
          }
        }
      ]
    },
    {
      "cell_type": "code",
      "metadata": {
        "id": "jjklrB6L9tu8",
        "colab_type": "code",
        "outputId": "79fb7994-1161-4432-e670-545b11f8971b",
        "colab": {
          "base_uri": "https://localhost:8080/",
          "height": 295
        }
      },
      "source": [
        "plt.scatter(X_Test, Y_Pred, color = 'red')\n",
        "plt.plot(X_Train, regressor.predict(X_Train), color = 'blue')\n",
        "plt.title('Performance In The Evaluation Exam')\n",
        "plt.xlabel('Time Spent on Coding Daily')\n",
        "plt.ylabel('Marks')\n",
        "plt.show()"
      ],
      "execution_count": 59,
      "outputs": [
        {
          "output_type": "display_data",
          "data": {
            "image/png": "[encoded data removed]",
            "text/plain": [
              "<Figure size 432x288 with 1 Axes>"
            ]
          },
          "metadata": {
            "tags": [],
            "needs_background": "light"
          }
        }
      ]
    },
    {
      "cell_type": "code",
      "metadata": {
        "id": "HMrv6NuKpwL_",
        "colab_type": "code",
        "colab": {
          "base_uri": "https://localhost:8080/",
          "height": 295
        },
        "outputId": "02e421a0-84f1-42c0-a15e-2f6cf7658006"
      },
      "source": [
        "plt.scatter(X_Test, Y_Pred, color = 'red')\n",
        "plt.plot(X_Test, regressor.predict(X_Test), color = 'blue')\n",
        "plt.title('Performance In The Evaluation Exam')\n",
        "plt.xlabel('Time Spent on Coding Daily')\n",
        "plt.ylabel('Marks')\n",
        "plt.show()"
      ],
      "execution_count": 60,
      "outputs": [
        {
          "output_type": "display_data",
          "data": {
            "image/png": "[encoded data removed]",
            "text/plain": [
              "<Figure size 432x288 with 1 Axes>"
            ]
          },
          "metadata": {
            "tags": [],
            "needs_background": "light"
          }
        }
      ]
    }
  ]
}