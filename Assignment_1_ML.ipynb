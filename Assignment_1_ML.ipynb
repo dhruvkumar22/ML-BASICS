{
  "nbformat": 4,
  "nbformat_minor": 0,
  "metadata": {
    "colab": {
      "name": "Assignment_1_ML.ipynb",
      "provenance": [],
      "authorship_tag": "ABX9TyPhWr+EpFenF5rmmPMrhSzZ",
      "include_colab_link": true
    },
    "kernelspec": {
      "name": "python3",
      "display_name": "Python 3"
    }
  },
  "cells": [
    {
      "cell_type": "markdown",
      "metadata": {
        "id": "view-in-github",
        "colab_type": "text"
      },
      "source": [
        "<a href=\"https://colab.research.google.com/github/dhruvkumar22/ML-BASICS/blob/master/Assignment_1_ML.ipynb\" target=\"_parent\"><img src=\"https://colab.research.google.com/assets/colab-badge.svg\" alt=\"Open In Colab\"/></a>"
      ]
    },
    {
      "cell_type": "code",
      "metadata": {
        "id": "ZLsRUN8kuE18",
        "colab_type": "code",
        "colab": {}
      },
      "source": [
        "import numpy as np\n",
        "import matplotlib.pyplot as plt\n",
        "import pandas as pd\n"
      ],
      "execution_count": 0,
      "outputs": []
    },
    {
      "cell_type": "code",
      "metadata": {
        "id": "6injOz3UvNr6",
        "colab_type": "code",
        "colab": {}
      },
      "source": [
        "dataset1 = pd.read_csv('Linear_X_Test.csv')\n",
        "dataset2 = pd.read_csv('Linear_X_Train.csv')\n",
        "dataset3 = pd.read_csv('Linear_Y_Train.csv')\n",
        "\n",
        "X_Train = dataset2.iloc[:,:].values\n",
        "X_Test = dataset1.iloc[:,:].values\n",
        "Y_Train = dataset3.iloc[:,:].values"
      ],
      "execution_count": 0,
      "outputs": []
    },
    {
      "cell_type": "code",
      "metadata": {
        "id": "A-qpJ1VmxS1H",
        "colab_type": "code",
        "outputId": "118f92c5-7b51-46be-a399-699b178c8332",
        "colab": {
          "base_uri": "https://localhost:8080/",
          "height": 136
        }
      },
      "source": [
        "print(X_Train) "
      ],
      "execution_count": 44,
      "outputs": [
        {
          "output_type": "stream",
          "text": [
            "[[-0.28930742]\n",
            " [-0.58880963]\n",
            " [ 1.02750749]\n",
            " ...\n",
            " [-0.30516366]\n",
            " [ 1.67583291]\n",
            " [-0.49175724]]\n"
          ],
          "name": "stdout"
        }
      ]
    },
    {
      "cell_type": "code",
      "metadata": {
        "id": "HgJMYgoU6VH-",
        "colab_type": "code",
        "outputId": "546907bc-0661-4158-9cc8-526589a28eb2",
        "colab": {
          "base_uri": "https://localhost:8080/",
          "height": 136
        }
      },
      "source": [
        "print(X_Test)"
      ],
      "execution_count": 45,
      "outputs": [
        {
          "output_type": "stream",
          "text": [
            "[[-1.87794441]\n",
            " [-0.86903192]\n",
            " [-2.53018242]\n",
            " ...\n",
            " [ 0.12800782]\n",
            " [-0.27803759]\n",
            " [-0.68042543]]\n"
          ],
          "name": "stdout"
        }
      ]
    },
    {
      "cell_type": "code",
      "metadata": {
        "id": "0L7Nb9w06gf_",
        "colab_type": "code",
        "outputId": "d0621e66-e68e-4ebb-8790-ab7309f89eba",
        "colab": {
          "base_uri": "https://localhost:8080/",
          "height": 136
        }
      },
      "source": [
        "print(Y_Train)"
      ],
      "execution_count": 46,
      "outputs": [
        {
          "output_type": "stream",
          "text": [
            "[[-9.11011171e-02]\n",
            " [-5.34677208e+01]\n",
            " [ 7.54570088e+01]\n",
            " ...\n",
            " [-3.49832749e+01]\n",
            " [ 1.45206092e+02]\n",
            " [-1.71244939e+01]]\n"
          ],
          "name": "stdout"
        }
      ]
    },
    {
      "cell_type": "code",
      "metadata": {
        "id": "S-fpwrYg688F",
        "colab_type": "code",
        "outputId": "a389a906-c129-49f8-dda4-5ca8ba4957aa",
        "colab": {
          "base_uri": "https://localhost:8080/",
          "height": 34
        }
      },
      "source": [
        "from sklearn.linear_model import LinearRegression\n",
        "regressor = LinearRegression()\n",
        "regressor.fit(X_Train, Y_Train)"
      ],
      "execution_count": 47,
      "outputs": [
        {
          "output_type": "execute_result",
          "data": {
            "text/plain": [
              "LinearRegression(copy_X=True, fit_intercept=True, n_jobs=None, normalize=False)"
            ]
          },
          "metadata": {
            "tags": []
          },
          "execution_count": 47
        }
      ]
    },
    {
      "cell_type": "code",
      "metadata": {
        "id": "qH3PcHRb8UJW",
        "colab_type": "code",
        "colab": {}
      },
      "source": [
        "Y_Pred = regressor.predict(X_Test)"
      ],
      "execution_count": 0,
      "outputs": []
    },
    {
      "cell_type": "code",
      "metadata": {
        "id": "hy3DGLLU8hNq",
        "colab_type": "code",
        "outputId": "b681443d-5920-4433-92a3-5f553f3bab2a",
        "colab": {
          "base_uri": "https://localhost:8080/",
          "height": 295
        }
      },
      "source": [
        "plt.scatter(X_Train, Y_Train, color = 'red')\n",
        "plt.plot(X_Train, regressor.predict(X_Train), color = 'blue')\n",
        "plt.title('Performance In The Evaluation Exam')\n",
        "plt.xlabel('Time Spent on Coding Daily')\n",
        "plt.ylabel('Marks')\n",
        "plt.show()"
      ],
      "execution_count": 49,
      "outputs": [
        {
          "output_type": "display_data",
          "data": {
            "image/png": "[encoded data removed]",
            "text/plain": [
              "<Figure size 432x288 with 1 Axes>"
            ]
          },
          "metadata": {
            "tags": [],
            "needs_background": "light"
          }
        }
      ]
    },
    {
      "cell_type": "code",
      "metadata": {
        "id": "jjklrB6L9tu8",
        "colab_type": "code",
        "outputId": "86bb14c6-fee5-42e2-c281-1fee85fc035c",
        "colab": {
          "base_uri": "https://localhost:8080/",
          "height": 295
        }
      },
      "source": [
        "plt.scatter(X_Test, Y_Pred, color = 'red')\n",
        "plt.plot(X_Train, regressor.predict(X_Train), color = 'blue')\n",
        "plt.title('Performance In The Evaluation Exam')\n",
        "plt.xlabel('Time Spent on Coding Daily')\n",
        "plt.ylabel('Marks')\n",
        "plt.show()"
      ],
      "execution_count": 50,
      "outputs": [
        {
          "output_type": "display_data",
          "data": {
            "image/png": "[encoded data removed]",
            "text/plain": [
              "<Figure size 432x288 with 1 Axes>"
            ]
          },
          "metadata": {
            "tags": [],
            "needs_background": "light"
          }
        }
      ]
    }
  ]
}