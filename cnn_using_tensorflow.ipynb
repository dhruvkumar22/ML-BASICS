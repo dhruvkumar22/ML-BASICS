{
  "nbformat": 4,
  "nbformat_minor": 0,
  "metadata": {
    "colab": {
      "name": "cnn_using_tensorflow.ipynb",
      "provenance": [],
      "toc_visible": true,
      "authorship_tag": "ABX9TyNUVLiSDqF5iR+CiJYF+TIB",
      "include_colab_link": true
    },
    "kernelspec": {
      "name": "python3",
      "display_name": "Python 3"
    },
    "accelerator": "GPU"
  },
  "cells": [
    {
      "cell_type": "markdown",
      "metadata": {
        "id": "view-in-github",
        "colab_type": "text"
      },
      "source": [
        "<a href=\"https://colab.research.google.com/github/dhruvkumar22/ML-BASICS/blob/master/cnn_using_tensorflow.ipynb\" target=\"_parent\"><img src=\"https://colab.research.google.com/assets/colab-badge.svg\" alt=\"Open In Colab\"/></a>"
      ]
    },
    {
      "cell_type": "markdown",
      "metadata": {
        "id": "XQ284hZQNONj",
        "colab_type": "text"
      },
      "source": [
        "# Importing the libraries"
      ]
    },
    {
      "cell_type": "code",
      "metadata": {
        "id": "W9dRi3D1KLiT",
        "colab_type": "code",
        "colab": {
          "base_uri": "https://localhost:8080/",
          "height": 34
        },
        "outputId": "4274b01a-e62f-4538-c5c0-afb61de090ae"
      },
      "source": [
        "import numpy as np\n",
        "import matplotlib.pyplot as plt\n",
        "%tensorflow_version 1.x\n",
        "import tensorflow as tf\n",
        "from tensorflow.examples.tutorials.mnist import input_data\n",
        "%matplotlib inline\n",
        "import os"
      ],
      "execution_count": 1,
      "outputs": [
        {
          "output_type": "stream",
          "text": [
            "TensorFlow 1.x selected.\n"
          ],
          "name": "stdout"
        }
      ]
    },
    {
      "cell_type": "code",
      "metadata": {
        "id": "jLOR0fZYNCJ8",
        "colab_type": "code",
        "colab": {
          "base_uri": "https://localhost:8080/",
          "height": 35
        },
        "outputId": "aebf2791-c07c-47fe-82be-35112360bd29"
      },
      "source": [
        "tf.__version__"
      ],
      "execution_count": 2,
      "outputs": [
        {
          "output_type": "execute_result",
          "data": {
            "application/vnd.google.colaboratory.intrinsic+json": {
              "type": "string"
            },
            "text/plain": [
              "'1.15.2'"
            ]
          },
          "metadata": {
            "tags": []
          },
          "execution_count": 2
        }
      ]
    },
    {
      "cell_type": "markdown",
      "metadata": {
        "id": "iEj9qu9sNacR",
        "colab_type": "text"
      },
      "source": [
        "After Loading the libraries we need to import the data as well as include encoding i.e. One-Hot-Encoding\n",
        "\n",
        "\n",
        "After importing all the modules, you will now learn how to load data in TensorFlow, which should be pretty straightforward. The only thing that you should take into account is the one_hot=True argument, which you'll also find in the line of code below: it converts the categorical class labels to binary vectors.\n",
        "\n",
        "In one-hot encoding, you convert the categorical data into a vector of numbers. You do this because machine learning algorithms can't work with categorical data directly. Instead, you generate one boolean column for each category or class. Only one of these columns could take on the value 1 for each sample. That explains the term \"one-hot encoding\".\n",
        "\n",
        "But what does such a one-hot encoded data column look like?\n",
        "\n",
        "For your problem statement, the one-hot encoding will be a row vector, and for each image, it will have a dimension of 1 x 10. It's important to note here that the vector consists of all zeros except for the class that it represents. There, you'll find a 1. For example, the ankle boot image that you plotted above has a label of 9, so for all the ankle boot images, the one-hot encoding vector would be [0 0 0 0 0 0 0 0 0 1].\n",
        "\n",
        "Now that all of this is clear, it's time to import the data!"
      ]
    },
    {
      "cell_type": "code",
      "metadata": {
        "id": "UJ3qc83VNt4I",
        "colab_type": "code",
        "colab": {
          "base_uri": "https://localhost:8080/",
          "height": 530
        },
        "outputId": "4d614242-8a35-4b32-cf51-81e9d96865c3"
      },
      "source": [
        "data = input_data.read_data_sets('data/fashion',one_hot=True,\\\n",
        "                                 source_url='http://fashion-mnist.s3-website.eu-central-1.amazonaws.com/')"
      ],
      "execution_count": 3,
      "outputs": [
        {
          "output_type": "stream",
          "text": [
            "WARNING:tensorflow:From <ipython-input-3-e35c785570fd>:1: read_data_sets (from tensorflow.contrib.learn.python.learn.datasets.mnist) is deprecated and will be removed in a future version.\n",
            "Instructions for updating:\n",
            "Please use alternatives such as official/mnist/dataset.py from tensorflow/models.\n",
            "WARNING:tensorflow:From /tensorflow-1.15.2/python3.6/tensorflow_core/contrib/learn/python/learn/datasets/mnist.py:260: maybe_download (from tensorflow.contrib.learn.python.learn.datasets.base) is deprecated and will be removed in a future version.\n",
            "Instructions for updating:\n",
            "Please write your own downloading logic.\n",
            "WARNING:tensorflow:From /tensorflow-1.15.2/python3.6/tensorflow_core/contrib/learn/python/learn/datasets/base.py:252: _internal_retry.<locals>.wrap.<locals>.wrapped_fn (from tensorflow.contrib.learn.python.learn.datasets.base) is deprecated and will be removed in a future version.\n",
            "Instructions for updating:\n",
            "Please use urllib or similar directly.\n",
            "Successfully downloaded train-images-idx3-ubyte.gz 26421880 bytes.\n",
            "WARNING:tensorflow:From /tensorflow-1.15.2/python3.6/tensorflow_core/contrib/learn/python/learn/datasets/mnist.py:262: extract_images (from tensorflow.contrib.learn.python.learn.datasets.mnist) is deprecated and will be removed in a future version.\n",
            "Instructions for updating:\n",
            "Please use tf.data to implement this functionality.\n",
            "Extracting data/fashion/train-images-idx3-ubyte.gz\n",
            "Successfully downloaded train-labels-idx1-ubyte.gz 29515 bytes.\n",
            "WARNING:tensorflow:From /tensorflow-1.15.2/python3.6/tensorflow_core/contrib/learn/python/learn/datasets/mnist.py:267: extract_labels (from tensorflow.contrib.learn.python.learn.datasets.mnist) is deprecated and will be removed in a future version.\n",
            "Instructions for updating:\n",
            "Please use tf.data to implement this functionality.\n",
            "Extracting data/fashion/train-labels-idx1-ubyte.gz\n",
            "WARNING:tensorflow:From /tensorflow-1.15.2/python3.6/tensorflow_core/contrib/learn/python/learn/datasets/mnist.py:110: dense_to_one_hot (from tensorflow.contrib.learn.python.learn.datasets.mnist) is deprecated and will be removed in a future version.\n",
            "Instructions for updating:\n",
            "Please use tf.one_hot on tensors.\n",
            "Successfully downloaded t10k-images-idx3-ubyte.gz 4422102 bytes.\n",
            "Extracting data/fashion/t10k-images-idx3-ubyte.gz\n",
            "Successfully downloaded t10k-labels-idx1-ubyte.gz 5148 bytes.\n",
            "Extracting data/fashion/t10k-labels-idx1-ubyte.gz\n",
            "WARNING:tensorflow:From /tensorflow-1.15.2/python3.6/tensorflow_core/contrib/learn/python/learn/datasets/mnist.py:290: DataSet.__init__ (from tensorflow.contrib.learn.python.learn.datasets.mnist) is deprecated and will be removed in a future version.\n",
            "Instructions for updating:\n",
            "Please use alternatives such as official/mnist/dataset.py from tensorflow/models.\n"
          ],
          "name": "stdout"
        }
      ]
    },
    {
      "cell_type": "markdown",
      "metadata": {
        "id": "224SHOZmPO78",
        "colab_type": "text"
      },
      "source": [
        "# Analyzing the data"
      ]
    },
    {
      "cell_type": "code",
      "metadata": {
        "id": "QME55Ur2PNmD",
        "colab_type": "code",
        "colab": {
          "base_uri": "https://localhost:8080/",
          "height": 85
        },
        "outputId": "4b8279fb-c3a2-4031-f854-14acd666b22e"
      },
      "source": [
        "print(\"Training set (images) shape: {shape}\".format(shape=data.train.images.shape))\n",
        "print(\"Training set (labels) shape: {shape}\".format(shape=data.train.labels.shape))\n",
        "\n",
        "\n",
        "print(\"Test set (images) shape: {shape}\".format(shape=data.test.images.shape))\n",
        "print(\"Test set (labels) shape: {shape}\".format(shape=data.test.labels.shape))\n"
      ],
      "execution_count": 4,
      "outputs": [
        {
          "output_type": "stream",
          "text": [
            "Training set (images) shape: (55000, 784)\n",
            "Training set (labels) shape: (55000, 10)\n",
            "Test set (images) shape: (10000, 784)\n",
            "Test set (labels) shape: (10000, 10)\n"
          ],
          "name": "stdout"
        }
      ]
    },
    {
      "cell_type": "markdown",
      "metadata": {
        "id": "40KgkV7goY5U",
        "colab_type": "text"
      },
      "source": [
        "From the above output, you can see that the training data has a shape of 55000 x 784: there are 55,000 training samples each of the 784-dimensional vector. Similarly, the test data has a shape of 10000 x 784, since there are 10,000 testing samples.\n",
        "\n",
        "The 784-dimensional vector is nothing but a 28 x 28-dimensional matrix. That's why you will be reshaping each training and testing sample from a 784-dimensional vector to a 28 x 28 x 1-dimensional matrix in order to feed the samples into the CNN model.\n",
        "\n",
        "For simplicity, let's create a dictionary that will have class names with their corresponding categorical class labels."
      ]
    },
    {
      "cell_type": "code",
      "metadata": {
        "id": "Y1IZoW5ooRUq",
        "colab_type": "code",
        "colab": {}
      },
      "source": [
        "label_dict = {\n",
        " 0: 'T-shirt/top',\n",
        " 1: 'Trouser',\n",
        " 2: 'Pullover',\n",
        " 3: 'Dress',\n",
        " 4: 'Coat',\n",
        " 5: 'Sandal',\n",
        " 6: 'Shirt',\n",
        " 7: 'Sneaker',\n",
        " 8: 'Bag',\n",
        " 9: 'Ankle boot',\n",
        "}"
      ],
      "execution_count": 5,
      "outputs": []
    },
    {
      "cell_type": "code",
      "metadata": {
        "id": "z4hTPWDppPge",
        "colab_type": "code",
        "colab": {
          "base_uri": "https://localhost:8080/",
          "height": 208
        },
        "outputId": "f341e242-b78c-4630-e7e6-02517939429e"
      },
      "source": [
        "plt.figure(figsize=[5,5])\n",
        "\n",
        "# Display the first image in training data\n",
        "plt.subplot(121)         #defines the position of the subplot\n",
        "curr_img = np.reshape(data.train.images[0], (28,28))    # converts an image into a 28*28 matrix\n",
        "curr_lbl = np.argmax(data.train.labels[0,:])\n",
        "plt.imshow(curr_img, cmap='gray')\n",
        "plt.title(\"(Label: \" + str(label_dict[curr_lbl]) + \")\")\n",
        "\n",
        "# Display the first image in testing data\n",
        "plt.subplot(122)\n",
        "curr_img = np.reshape(data.test.images[0], (28,28))\n",
        "curr_lbl = np.argmax(data.test.labels[0,:])\n",
        "plt.imshow(curr_img, cmap='gray')\n",
        "plt.title(\"(Label: \" + str(label_dict[curr_lbl]) + \")\")"
      ],
      "execution_count": 6,
      "outputs": [
        {
          "output_type": "execute_result",
          "data": {
            "text/plain": [
              "Text(0.5, 1.0, '(Label: Ankle boot)')"
            ]
          },
          "metadata": {
            "tags": []
          },
          "execution_count": 6
        },
        {
          "output_type": "display_data",
          "data": {
            "image/png": "[encoded data removed]",
            "text/plain": [
              "<Figure size 360x360 with 2 Axes>"
            ]
          },
          "metadata": {
            "tags": [],
            "needs_background": "light"
          }
        }
      ]
    },
    {
      "cell_type": "markdown",
      "metadata": {
        "id": "BhAMbz9e4Jda",
        "colab_type": "text"
      },
      "source": [
        "# Data Preprocessing"
      ]
    },
    {
      "cell_type": "code",
      "metadata": {
        "id": "KBUO_QLz4NtM",
        "colab_type": "code",
        "colab": {
          "base_uri": "https://localhost:8080/",
          "height": 1000
        },
        "outputId": "a0b7ce7c-7cd5-4d51-a8cd-c1e7f18a35c7"
      },
      "source": [
        "data.train.images[0][:]"
      ],
      "execution_count": 7,
      "outputs": [
        {
          "output_type": "execute_result",
          "data": {
            "text/plain": [
              "array([0.        , 0.        , 0.        , 0.        , 0.        ,\n",
              "       0.        , 0.        , 0.        , 0.        , 0.        ,\n",
              "       0.        , 0.        , 0.        , 0.        , 0.        ,\n",
              "       0.        , 0.        , 0.        , 0.        , 0.00392157,\n",
              "       0.        , 0.        , 0.        , 0.        , 0.        ,\n",
              "       0.        , 0.        , 0.        , 0.        , 0.        ,\n",
              "       0.        , 0.        , 0.        , 0.        , 0.        ,\n",
              "       0.        , 0.        , 0.        , 0.        , 0.17254902,\n",
              "       0.49803925, 0.7137255 , 0.7254902 , 0.6313726 , 0.47058827,\n",
              "       0.21568629, 0.        , 0.        , 0.        , 0.        ,\n",
              "       0.        , 0.        , 0.        , 0.        , 0.        ,\n",
              "       0.        , 0.        , 0.        , 0.        , 0.        ,\n",
              "       0.        , 0.        , 0.        , 0.        , 0.        ,\n",
              "       0.16470589, 0.77647066, 0.9843138 , 1.        , 0.9843138 ,\n",
              "       0.97647065, 0.9686275 , 1.        , 0.98823535, 0.83921576,\n",
              "       0.3921569 , 0.        , 0.        , 0.        , 0.        ,\n",
              "       0.        , 0.        , 0.        , 0.        , 0.        ,\n",
              "       0.        , 0.        , 0.        , 0.        , 0.        ,\n",
              "       0.00784314, 0.        , 0.        , 0.91372555, 0.98823535,\n",
              "       0.9294118 , 0.93725497, 0.9176471 , 0.9294118 , 0.9215687 ,\n",
              "       0.9294118 , 0.9294118 , 0.9960785 , 0.89019614, 0.        ,\n",
              "       0.        , 0.        , 0.        , 0.00392157, 0.        ,\n",
              "       0.        , 0.        , 0.        , 0.        , 0.        ,\n",
              "       0.        , 0.        , 0.00784314, 0.        , 0.        ,\n",
              "       0.0627451 , 0.8235295 , 0.882353  , 0.8431373 , 0.6862745 ,\n",
              "       0.85098046, 0.8470589 , 0.7568628 , 0.7686275 , 0.8862746 ,\n",
              "       0.86666673, 0.8196079 , 0.19607845, 0.        , 0.        ,\n",
              "       0.00784314, 0.        , 0.        , 0.        , 0.        ,\n",
              "       0.        , 0.        , 0.        , 0.        , 0.00784314,\n",
              "       0.        , 0.        , 0.7803922 , 0.8980393 , 0.909804  ,\n",
              "       0.90196085, 0.9607844 , 0.8000001 , 0.8588236 , 0.9921569 ,\n",
              "       0.9607844 , 0.8117648 , 0.7607844 , 0.8745099 , 0.9058824 ,\n",
              "       0.92549026, 0.9215687 , 0.        , 0.        , 0.01176471,\n",
              "       0.        , 0.        , 0.        , 0.        , 0.        ,\n",
              "       0.        , 0.        , 0.00392157, 0.        , 0.5372549 ,\n",
              "       0.9215687 , 0.8000001 , 0.8196079 , 0.78823537, 0.8196079 ,\n",
              "       0.9176471 , 0.74509805, 0.9176471 , 0.854902  , 0.8431373 ,\n",
              "       0.9333334 , 0.93725497, 0.8000001 , 0.7411765 , 0.87843144,\n",
              "       0.6039216 , 0.        , 0.        , 0.        , 0.        ,\n",
              "       0.        , 0.        , 0.        , 0.        , 0.        ,\n",
              "       0.        , 0.        , 0.7607844 , 0.78823537, 0.7843138 ,\n",
              "       0.8196079 , 0.79215693, 0.7568628 , 0.80392164, 0.7607844 ,\n",
              "       0.7176471 , 0.854902  , 0.9058824 , 0.7725491 , 0.6745098 ,\n",
              "       0.70980394, 0.7568628 , 0.80392164, 0.7803922 , 0.        ,\n",
              "       0.        , 0.        , 0.        , 0.        , 0.        ,\n",
              "       0.        , 0.        , 0.        , 0.        , 0.01176471,\n",
              "       0.8313726 , 0.7960785 , 0.7372549 , 0.7411765 , 0.7686275 ,\n",
              "       0.77647066, 0.77647066, 0.78823537, 0.7686275 , 0.85098046,\n",
              "       0.7019608 , 0.654902  , 0.7176471 , 0.85098046, 0.7725491 ,\n",
              "       0.79215693, 0.8588236 , 0.11764707, 0.        , 0.        ,\n",
              "       0.        , 0.        , 0.        , 0.        , 0.        ,\n",
              "       0.        , 0.        , 0.13333334, 0.882353  , 0.7843138 ,\n",
              "       0.7607844 , 0.74509805, 0.7372549 , 0.75294125, 0.7686275 ,\n",
              "       0.75294125, 0.6666667 , 0.79215693, 0.74509805, 0.78823537,\n",
              "       0.76470596, 0.7843138 , 0.78823537, 0.8196079 , 0.89019614,\n",
              "       0.19607845, 0.        , 0.        , 0.        , 0.        ,\n",
              "       0.        , 0.        , 0.        , 0.        , 0.        ,\n",
              "       0.26666668, 0.882353  , 0.8235295 , 0.82745105, 0.77647066,\n",
              "       0.75294125, 0.7686275 , 0.8000001 , 0.7686275 , 0.70980394,\n",
              "       0.8313726 , 0.7725491 , 0.76470596, 0.75294125, 0.8078432 ,\n",
              "       0.86274517, 0.8235295 , 0.8980393 , 0.3647059 , 0.        ,\n",
              "       0.        , 0.        , 0.        , 0.        , 0.        ,\n",
              "       0.        , 0.        , 0.        , 0.43529415, 0.8745099 ,\n",
              "       0.89019614, 0.9921569 , 0.8196079 , 0.7686275 , 0.8000001 ,\n",
              "       0.82745105, 0.8078432 , 0.7176471 , 0.8470589 , 0.8078432 ,\n",
              "       0.8235295 , 0.7960785 , 0.8431373 , 0.9568628 , 0.87843144,\n",
              "       0.89019614, 0.5882353 , 0.        , 0.        , 0.        ,\n",
              "       0.        , 0.        , 0.        , 0.        , 0.        ,\n",
              "       0.        , 0.54509807, 0.882353  , 0.87843144, 1.        ,\n",
              "       0.79215693, 0.8078432 , 0.8313726 , 0.8196079 , 0.82745105,\n",
              "       0.74509805, 0.8352942 , 0.79215693, 0.8117648 , 0.8078432 ,\n",
              "       0.8705883 , 1.        , 0.90196085, 0.86274517, 0.74509805,\n",
              "       0.        , 0.        , 0.        , 0.        , 0.        ,\n",
              "       0.        , 0.        , 0.        , 0.        , 0.7058824 ,\n",
              "       0.8862746 , 0.87843144, 1.        , 0.7803922 , 0.8000001 ,\n",
              "       0.8117648 , 0.83921576, 0.83921576, 0.74509805, 0.8470589 ,\n",
              "       0.8078432 , 0.7960785 , 0.80392164, 0.8588236 , 0.95294124,\n",
              "       0.87843144, 0.83921576, 0.9176471 , 0.        , 0.        ,\n",
              "       0.        , 0.        , 0.        , 0.        , 0.        ,\n",
              "       0.        , 0.        , 0.882353  , 0.8745099 , 0.8941177 ,\n",
              "       0.9960785 , 0.8196079 , 0.8078432 , 0.81568635, 0.8352942 ,\n",
              "       0.8235295 , 0.7490196 , 0.8431373 , 0.8117648 , 0.8000001 ,\n",
              "       0.81568635, 0.82745105, 0.97647065, 0.8862746 , 0.83921576,\n",
              "       1.        , 0.14901961, 0.        , 0.        , 0.        ,\n",
              "       0.        , 0.        , 0.        , 0.        , 0.        ,\n",
              "       0.9803922 , 0.909804  , 0.94117653, 0.93725497, 0.82745105,\n",
              "       0.7960785 , 0.8196079 , 0.80392164, 0.82745105, 0.7725491 ,\n",
              "       0.8431373 , 0.81568635, 0.81568635, 0.83921576, 0.8352942 ,\n",
              "       0.93725497, 0.9058824 , 0.8588236 , 1.        , 0.31764707,\n",
              "       0.        , 0.        , 0.        , 0.        , 0.        ,\n",
              "       0.        , 0.        , 0.        , 0.9725491 , 0.92549026,\n",
              "       0.9686275 , 0.94117653, 0.7960785 , 0.7843138 , 0.81568635,\n",
              "       0.8078432 , 0.83921576, 0.7568628 , 0.8352942 , 0.8313726 ,\n",
              "       0.81568635, 0.8313726 , 0.82745105, 0.95294124, 0.9490197 ,\n",
              "       0.882353  , 0.9960785 , 0.25882354, 0.        , 0.        ,\n",
              "       0.        , 0.        , 0.        , 0.        , 0.        ,\n",
              "       0.        , 0.9686275 , 0.90196085, 0.98823535, 0.8862746 ,\n",
              "       0.7803922 , 0.82745105, 0.79215693, 0.82745105, 0.8352942 ,\n",
              "       0.7137255 , 0.8352942 , 0.8313726 , 0.8078432 , 0.79215693,\n",
              "       0.8588236 , 0.8117648 , 0.9686275 , 0.8705883 , 0.9294118 ,\n",
              "       0.40784317, 0.        , 0.        , 0.        , 0.        ,\n",
              "       0.        , 0.        , 0.        , 0.03921569, 0.9568628 ,\n",
              "       0.8588236 , 0.9803922 , 0.80392164, 0.7803922 , 0.8196079 ,\n",
              "       0.79215693, 0.8196079 , 0.82745105, 0.7411765 , 0.83921576,\n",
              "       0.8078432 , 0.8235295 , 0.7843138 , 0.8313726 , 0.6039216 ,\n",
              "       0.94117653, 0.81568635, 0.8588236 , 0.54901963, 0.        ,\n",
              "       0.        , 0.        , 0.        , 0.        , 0.        ,\n",
              "       0.        , 0.08235294, 1.        , 0.8705883 , 0.9333334 ,\n",
              "       0.72156864, 0.8235295 , 0.75294125, 0.8078432 , 0.8196079 ,\n",
              "       0.8235295 , 0.7411765 , 0.8352942 , 0.82745105, 0.8196079 ,\n",
              "       0.75294125, 0.8941177 , 0.60784316, 0.8862746 , 0.9333334 ,\n",
              "       0.9450981 , 0.6509804 , 0.        , 0.        , 0.        ,\n",
              "       0.        , 0.        , 0.        , 0.        , 0.14509805,\n",
              "       0.9607844 , 0.8862746 , 0.9450981 , 0.5882353 , 0.7725491 ,\n",
              "       0.7411765 , 0.8000001 , 0.8196079 , 0.8235295 , 0.7176471 ,\n",
              "       0.8352942 , 0.8352942 , 0.78823537, 0.72156864, 0.8431373 ,\n",
              "       0.57254905, 0.8470589 , 0.92549026, 0.882353  , 0.6039216 ,\n",
              "       0.        , 0.        , 0.        , 0.        , 0.        ,\n",
              "       0.        , 0.        , 0.227451  , 0.93725497, 0.89019614,\n",
              "       1.        , 0.61960787, 0.7568628 , 0.76470596, 0.8000001 ,\n",
              "       0.8196079 , 0.8352942 , 0.7058824 , 0.8117648 , 0.85098046,\n",
              "       0.7803922 , 0.7607844 , 0.82745105, 0.61960787, 0.8588236 ,\n",
              "       0.92549026, 0.8470589 , 0.5921569 , 0.        , 0.        ,\n",
              "       0.        , 0.        , 0.        , 0.        , 0.        ,\n",
              "       0.26666668, 0.91372555, 0.8862746 , 0.95294124, 0.54509807,\n",
              "       0.7843138 , 0.7568628 , 0.80392164, 0.8235295 , 0.81568635,\n",
              "       0.7058824 , 0.80392164, 0.8313726 , 0.7960785 , 0.7686275 ,\n",
              "       0.8470589 , 0.6156863 , 0.7019608 , 1.        , 0.8470589 ,\n",
              "       0.60784316, 0.        , 0.        , 0.        , 0.        ,\n",
              "       0.        , 0.        , 0.        , 0.31764707, 0.882353  ,\n",
              "       0.87843144, 0.82745105, 0.5411765 , 0.8588236 , 0.7254902 ,\n",
              "       0.78823537, 0.8352942 , 0.8117648 , 0.7725491 , 0.8862746 ,\n",
              "       0.8313726 , 0.7843138 , 0.74509805, 0.8431373 , 0.7176471 ,\n",
              "       0.3529412 , 1.        , 0.82745105, 0.5764706 , 0.        ,\n",
              "       0.        , 0.        , 0.        , 0.        , 0.        ,\n",
              "       0.        , 0.35686275, 0.8235295 , 0.90196085, 0.61960787,\n",
              "       0.44705886, 0.80392164, 0.73333335, 0.81568635, 0.8196079 ,\n",
              "       0.8078432 , 0.7568628 , 0.8235295 , 0.82745105, 0.8000001 ,\n",
              "       0.76470596, 0.8000001 , 0.70980394, 0.09019608, 1.        ,\n",
              "       0.8352942 , 0.61960787, 0.        , 0.        , 0.        ,\n",
              "       0.        , 0.        , 0.        , 0.        , 0.34117648,\n",
              "       0.80392164, 0.909804  , 0.427451  , 0.6431373 , 1.        ,\n",
              "       0.83921576, 0.87843144, 0.8705883 , 0.8235295 , 0.7725491 ,\n",
              "       0.83921576, 0.882353  , 0.8705883 , 0.82745105, 0.86274517,\n",
              "       0.85098046, 0.        , 0.9176471 , 0.8470589 , 0.6627451 ,\n",
              "       0.        , 0.        , 0.        , 0.        , 0.        ,\n",
              "       0.        , 0.        , 0.36078432, 0.8352942 , 0.909804  ,\n",
              "       0.57254905, 0.01960784, 0.5254902 , 0.5921569 , 0.63529414,\n",
              "       0.6666667 , 0.7176471 , 0.7137255 , 0.6431373 , 0.6509804 ,\n",
              "       0.69803923, 0.63529414, 0.6117647 , 0.38431376, 0.        ,\n",
              "       0.94117653, 0.882353  , 0.8235295 , 0.        , 0.        ,\n",
              "       0.        , 0.        , 0.        , 0.        , 0.        ,\n",
              "       0.16862746, 0.6431373 , 0.8078432 , 0.5529412 , 0.        ,\n",
              "       0.        , 0.        , 0.        , 0.        , 0.        ,\n",
              "       0.        , 0.        , 0.        , 0.        , 0.        ,\n",
              "       0.        , 0.        , 0.        , 0.49803925, 0.4901961 ,\n",
              "       0.29803923, 0.        , 0.        , 0.        ], dtype=float32)"
            ]
          },
          "metadata": {
            "tags": []
          },
          "execution_count": 7
        }
      ]
    },
    {
      "cell_type": "code",
      "metadata": {
        "id": "25RE5HdyR3xG",
        "colab_type": "code",
        "colab": {
          "base_uri": "https://localhost:8080/",
          "height": 986
        },
        "outputId": "3734c149-e7de-4aa0-8af9-6a66a62c6355"
      },
      "source": [
        "data.train.images[0][500:]"
      ],
      "execution_count": 8,
      "outputs": [
        {
          "output_type": "execute_result",
          "data": {
            "text/plain": [
              "array([0.40784317, 0.        , 0.        , 0.        , 0.        ,\n",
              "       0.        , 0.        , 0.        , 0.03921569, 0.9568628 ,\n",
              "       0.8588236 , 0.9803922 , 0.80392164, 0.7803922 , 0.8196079 ,\n",
              "       0.79215693, 0.8196079 , 0.82745105, 0.7411765 , 0.83921576,\n",
              "       0.8078432 , 0.8235295 , 0.7843138 , 0.8313726 , 0.6039216 ,\n",
              "       0.94117653, 0.81568635, 0.8588236 , 0.54901963, 0.        ,\n",
              "       0.        , 0.        , 0.        , 0.        , 0.        ,\n",
              "       0.        , 0.08235294, 1.        , 0.8705883 , 0.9333334 ,\n",
              "       0.72156864, 0.8235295 , 0.75294125, 0.8078432 , 0.8196079 ,\n",
              "       0.8235295 , 0.7411765 , 0.8352942 , 0.82745105, 0.8196079 ,\n",
              "       0.75294125, 0.8941177 , 0.60784316, 0.8862746 , 0.9333334 ,\n",
              "       0.9450981 , 0.6509804 , 0.        , 0.        , 0.        ,\n",
              "       0.        , 0.        , 0.        , 0.        , 0.14509805,\n",
              "       0.9607844 , 0.8862746 , 0.9450981 , 0.5882353 , 0.7725491 ,\n",
              "       0.7411765 , 0.8000001 , 0.8196079 , 0.8235295 , 0.7176471 ,\n",
              "       0.8352942 , 0.8352942 , 0.78823537, 0.72156864, 0.8431373 ,\n",
              "       0.57254905, 0.8470589 , 0.92549026, 0.882353  , 0.6039216 ,\n",
              "       0.        , 0.        , 0.        , 0.        , 0.        ,\n",
              "       0.        , 0.        , 0.227451  , 0.93725497, 0.89019614,\n",
              "       1.        , 0.61960787, 0.7568628 , 0.76470596, 0.8000001 ,\n",
              "       0.8196079 , 0.8352942 , 0.7058824 , 0.8117648 , 0.85098046,\n",
              "       0.7803922 , 0.7607844 , 0.82745105, 0.61960787, 0.8588236 ,\n",
              "       0.92549026, 0.8470589 , 0.5921569 , 0.        , 0.        ,\n",
              "       0.        , 0.        , 0.        , 0.        , 0.        ,\n",
              "       0.26666668, 0.91372555, 0.8862746 , 0.95294124, 0.54509807,\n",
              "       0.7843138 , 0.7568628 , 0.80392164, 0.8235295 , 0.81568635,\n",
              "       0.7058824 , 0.80392164, 0.8313726 , 0.7960785 , 0.7686275 ,\n",
              "       0.8470589 , 0.6156863 , 0.7019608 , 1.        , 0.8470589 ,\n",
              "       0.60784316, 0.        , 0.        , 0.        , 0.        ,\n",
              "       0.        , 0.        , 0.        , 0.31764707, 0.882353  ,\n",
              "       0.87843144, 0.82745105, 0.5411765 , 0.8588236 , 0.7254902 ,\n",
              "       0.78823537, 0.8352942 , 0.8117648 , 0.7725491 , 0.8862746 ,\n",
              "       0.8313726 , 0.7843138 , 0.74509805, 0.8431373 , 0.7176471 ,\n",
              "       0.3529412 , 1.        , 0.82745105, 0.5764706 , 0.        ,\n",
              "       0.        , 0.        , 0.        , 0.        , 0.        ,\n",
              "       0.        , 0.35686275, 0.8235295 , 0.90196085, 0.61960787,\n",
              "       0.44705886, 0.80392164, 0.73333335, 0.81568635, 0.8196079 ,\n",
              "       0.8078432 , 0.7568628 , 0.8235295 , 0.82745105, 0.8000001 ,\n",
              "       0.76470596, 0.8000001 , 0.70980394, 0.09019608, 1.        ,\n",
              "       0.8352942 , 0.61960787, 0.        , 0.        , 0.        ,\n",
              "       0.        , 0.        , 0.        , 0.        , 0.34117648,\n",
              "       0.80392164, 0.909804  , 0.427451  , 0.6431373 , 1.        ,\n",
              "       0.83921576, 0.87843144, 0.8705883 , 0.8235295 , 0.7725491 ,\n",
              "       0.83921576, 0.882353  , 0.8705883 , 0.82745105, 0.86274517,\n",
              "       0.85098046, 0.        , 0.9176471 , 0.8470589 , 0.6627451 ,\n",
              "       0.        , 0.        , 0.        , 0.        , 0.        ,\n",
              "       0.        , 0.        , 0.36078432, 0.8352942 , 0.909804  ,\n",
              "       0.57254905, 0.01960784, 0.5254902 , 0.5921569 , 0.63529414,\n",
              "       0.6666667 , 0.7176471 , 0.7137255 , 0.6431373 , 0.6509804 ,\n",
              "       0.69803923, 0.63529414, 0.6117647 , 0.38431376, 0.        ,\n",
              "       0.94117653, 0.882353  , 0.8235295 , 0.        , 0.        ,\n",
              "       0.        , 0.        , 0.        , 0.        , 0.        ,\n",
              "       0.16862746, 0.6431373 , 0.8078432 , 0.5529412 , 0.        ,\n",
              "       0.        , 0.        , 0.        , 0.        , 0.        ,\n",
              "       0.        , 0.        , 0.        , 0.        , 0.        ,\n",
              "       0.        , 0.        , 0.        , 0.49803925, 0.4901961 ,\n",
              "       0.29803923, 0.        , 0.        , 0.        ], dtype=float32)"
            ]
          },
          "metadata": {
            "tags": []
          },
          "execution_count": 8
        }
      ]
    },
    {
      "cell_type": "code",
      "metadata": {
        "id": "r5X3CkOOQomT",
        "colab_type": "code",
        "colab": {
          "base_uri": "https://localhost:8080/",
          "height": 34
        },
        "outputId": "bd84942e-4d78-4b30-8367-720cbef437ba"
      },
      "source": [
        "np.max(data.train.images[0])"
      ],
      "execution_count": 9,
      "outputs": [
        {
          "output_type": "execute_result",
          "data": {
            "text/plain": [
              "1.0"
            ]
          },
          "metadata": {
            "tags": []
          },
          "execution_count": 9
        }
      ]
    },
    {
      "cell_type": "code",
      "metadata": {
        "id": "Ms_Ux8ftRsdl",
        "colab_type": "code",
        "colab": {
          "base_uri": "https://localhost:8080/",
          "height": 34
        },
        "outputId": "77ab10d4-0c41-46f9-9f8a-c9e16dc8566d"
      },
      "source": [
        "np.min(data.train.images[0])"
      ],
      "execution_count": 10,
      "outputs": [
        {
          "output_type": "execute_result",
          "data": {
            "text/plain": [
              "0.0"
            ]
          },
          "metadata": {
            "tags": []
          },
          "execution_count": 10
        }
      ]
    },
    {
      "cell_type": "markdown",
      "metadata": {
        "id": "QKBRTvosSLoI",
        "colab_type": "text"
      },
      "source": [
        "Let us reshape the images so that it's of size 28 x 28 x 1, and feed this as an input to the network.\n",
        "\n",
        "The reason you need to reshape your data is that Tensorflow expects a certain input shape for its Deep Learning Model, i.e., in this case, a Convolution Neural Network, specifically:\n",
        "\n",
        "(`<number of images>, <image x_dim>, <image y_dim>, <number of channels>`)\n",
        "\n",
        "The dataset class used here apparently yields a flattened (list-like) shape for these images, so the reshape command puts the data structure into a type that the TF class can work with."
      ]
    },
    {
      "cell_type": "code",
      "metadata": {
        "id": "D6vHF3ALSQ8w",
        "colab_type": "code",
        "colab": {}
      },
      "source": [
        "train_X = data.train.images.reshape(-1, 28, 28, 1)\n",
        "test_X = data.test.images.reshape(-1,28,28,1)                 # -1 because we don,t know the values  the last value refers to the channels i.e 1 for black and white images 3 if rgb"
      ],
      "execution_count": 11,
      "outputs": []
    },
    {
      "cell_type": "code",
      "metadata": {
        "id": "R_rnjkuLTsg1",
        "colab_type": "code",
        "colab": {}
      },
      "source": [
        "train_y = data.train.labels\n",
        "test_y = data.test.labels"
      ],
      "execution_count": 12,
      "outputs": []
    },
    {
      "cell_type": "code",
      "metadata": {
        "id": "FqxPuJXXTwtL",
        "colab_type": "code",
        "colab": {
          "base_uri": "https://localhost:8080/",
          "height": 34
        },
        "outputId": "b6c0eda5-4f38-4d1a-943b-62634432371a"
      },
      "source": [
        "train_X.shape, test_X.shape"
      ],
      "execution_count": 13,
      "outputs": [
        {
          "output_type": "execute_result",
          "data": {
            "text/plain": [
              "((55000, 28, 28, 1), (10000, 28, 28, 1))"
            ]
          },
          "metadata": {
            "tags": []
          },
          "execution_count": 13
        }
      ]
    },
    {
      "cell_type": "code",
      "metadata": {
        "id": "zER926BETx2H",
        "colab_type": "code",
        "colab": {
          "base_uri": "https://localhost:8080/",
          "height": 34
        },
        "outputId": "e47f4947-6abc-4850-e057-603b3edb9324"
      },
      "source": [
        "train_y.shape, test_y.shape"
      ],
      "execution_count": 14,
      "outputs": [
        {
          "output_type": "execute_result",
          "data": {
            "text/plain": [
              "((55000, 10), (10000, 10))"
            ]
          },
          "metadata": {
            "tags": []
          },
          "execution_count": 14
        }
      ]
    },
    {
      "cell_type": "markdown",
      "metadata": {
        "id": "LeX9KfysUsvq",
        "colab_type": "text"
      },
      "source": [
        "# The Deep Neural Network"
      ]
    },
    {
      "cell_type": "markdown",
      "metadata": {
        "id": "QyOliJDOU25Y",
        "colab_type": "text"
      },
      "source": [
        "You'll use three convolutional layers:\n",
        "\n",
        "The first layer will have 32-3 x 3 filters,\n",
        "The second layer will have 64-3 x 3 filters and\n",
        "The third layer will have 128-3 x 3 filters.\n",
        "In addition, there are three max-pooling layers, each of the size 2 x 2.\n",
        "\n",
        "\n",
        "![alt text](https://res.cloudinary.com/dyd911kmh/image/upload/f_auto,q_auto:best/v1591576676/Screen_Shot_2020-06-07_at_8.37.21_PM_kytyha.png)\n",
        "\n",
        "\n",
        "You start with defining the training iterations training_iters, the learning rate learning_rate, and the batch size batch_size. Keep in mind that all these are hyperparameters and that these don't have fixed values, as these differ for every problem statement.\n",
        "\n",
        "Nevertheless, here's what you usually can expect:\n",
        "\n",
        "* Training iterations indicate the number of times you train your network,\n",
        "* It is a good practice to use a learning rate of 1e-3, the learning rate is a factor that is multiplied with the weights based on which the weights get updated, and this indeed helps in reducing the cost/ loss/ cross-entropy and ultimately in converging or reaching the local optima. The learning rate should neither be too high or too low it should be a balanced rate.\n",
        "* The batch size means that your training images will be divided into a fixed batch size, and at every batch, it will take a fixed number of images and train them. It's recommended to use a batch size in the power of 2. Since the number of the physical processor is often a power of 2, using several virtual processors different from a power of 2 leads to poor performance. Also, taking a very large batch size can lead to memory errors, so you have to make sure that the machine you run your code on has sufficient RAM to handle specified batch size.!"
      ]
    },
    {
      "cell_type": "code",
      "metadata": {
        "id": "1whV3rLfUxTO",
        "colab_type": "code",
        "colab": {}
      },
      "source": [
        "training_iters = 10\n",
        "learning_rate = 0.001\n",
        "batch_size = 128"
      ],
      "execution_count": 15,
      "outputs": []
    },
    {
      "cell_type": "markdown",
      "metadata": {
        "id": "qoXA3vi-cX-1",
        "colab_type": "text"
      },
      "source": [
        "# Network parameters\n",
        "\n",
        "Next, you need to define the network parameters. Firstly, you define the number of inputs. This is 784 since the image is initially loaded as a 784-dimensional vector. Later, you will see that how you will reshape the 784-dimensional vector to a 28 x 28 x 1 matrix. Secondly, you'll also define the number of classes, which is nothing else than the number of class labels."
      ]
    },
    {
      "cell_type": "code",
      "metadata": {
        "id": "bOjgz3KXcsZx",
        "colab_type": "code",
        "colab": {}
      },
      "source": [
        "# MNIST data input (img shape: 28*28)\n",
        "n_input = 28\n",
        "\n",
        "# MNIST total classes (0-9 digits)\n",
        "n_classes = 10"
      ],
      "execution_count": 16,
      "outputs": []
    },
    {
      "cell_type": "markdown",
      "metadata": {
        "id": "2_TPVpgwc76A",
        "colab_type": "text"
      },
      "source": [
        "Now is the time to use those placeholders, about which you read previously in this tutorial. You will define an input placeholder x, which will have a dimension of None x 784 and the output placeholder with a dimension of None x 10. To reiterate, placeholders allow you to do operations and build your computation graph without feeding in data.\n",
        "\n",
        "Similarly, y will hold the label of the training images in the form matrix, which will be a None*10 matrix.\n",
        "\n",
        "The row dimension is None. That's because you have defined batch_size, which tells placeholders that they will receive this dimension when you feed in the data to them. Since you set the batch size to 128, this will be the row dimension of the placeholders."
      ]
    },
    {
      "cell_type": "code",
      "metadata": {
        "id": "GM8zzMCrc_1E",
        "colab_type": "code",
        "colab": {}
      },
      "source": [
        "#both placeholders are of type float\n",
        "x = tf.placeholder(\"float\", [None, 28,28,1])\n",
        "y = tf.placeholder(\"float\", [None, n_classes])"
      ],
      "execution_count": 17,
      "outputs": []
    },
    {
      "cell_type": "markdown",
      "metadata": {
        "id": "KzGL9Xi1eI4y",
        "colab_type": "text"
      },
      "source": [
        "## Creating wrappers for simplicity\n",
        "In your network architecture model, you will have multiple convolution and max-pooling layers. In such cases, it's always a better idea to define convolution and max-pooling functions, so that you can call them as many times you want to use them in your network.\n",
        "\n",
        "In the conv2d() function, you pass 4 arguments: input x, weights W, bias b, and strides. This last argument is by default set to 1, but you can always play with it to see how the network performs. The first and last stride must always be 1 because the first is for the image-number, and the last is for the input-channel (since the image is a gray-scale image which has only one channel). After applying the convolution, you will add bias and apply an activation function called Rectified Linear Unit (ReLU).\n",
        "The max-pooling function is simple: it has the input x and a kernel size k, which is set to be 2. This means that the max-pooling filter will be a square matrix with dimensions 2 x 2, and the stride by which the filter will move in is also 2.\n",
        "You will be padding equal to the same which ensures that while performing the convolution operations, the boundary pixels of the image are not left out, so padding equal to same will basically add zeros at the boundaries of the input and allow the convolution filter to access the boundary pixels as well.\n",
        "\n",
        "Similarly, max-pooling operation padding equal to the same will add zeros. Later, when you define the weights and the biases, you will notice that input of size 28 x 28 is downsampled to 4 x 4 after applying three max-pooling layers."
      ]
    },
    {
      "cell_type": "code",
      "metadata": {
        "id": "4B5j76ISeS4j",
        "colab_type": "code",
        "colab": {}
      },
      "source": [
        "def conv2d(x, W, b, strides=1):\n",
        "    # Conv2D wrapper, with bias and relu activation\n",
        "    x = tf.nn.conv2d(x, W, strides=[1, strides, strides, 1], padding='SAME')\n",
        "    x = tf.nn.bias_add(x, b)\n",
        "    return tf.nn.relu(x)\n",
        "\n",
        "def maxpool2d(x, k=2):    # k stands for kernel\n",
        "    return tf.nn.max_pool(x, ksize=[1, k, k, 1], strides=[1, k, k, 1],padding='SAME')"
      ],
      "execution_count": 18,
      "outputs": []
    },
    {
      "cell_type": "markdown",
      "metadata": {
        "id": "B8Cvf244haFn",
        "colab_type": "text"
      },
      "source": [
        "\n",
        "After you have defined the conv2d and maxpool2d wrappers, now you can define your weights and biases variables. So, let's get started!\n",
        "\n",
        "But first, let's understand each weight and bias parameter step by step. You will create two dictionaries, one for weight and the second for the bias parameter.\n",
        "\n",
        "If you can recall from the above figure that the first convolution layer has 32-3x3 filters, so the first key (wc1) in the weight dictionary has an argument shape that takes a tuple with 4 values: the first and second are the filter size, while the third is the number of channels in the input image and the last represents the number of convolution filters you want in the first convolution layer. The first key in the biases dictionary, bc1, will have 32 bias parameters.\n",
        "Similarly, the second key (wc2) of the weight dictionary has a shape parameter that will take a tuple with 4 values: the first and second again refer to the filter size, and the third represents the number of channels from the previous output. Since you pass 32 convolution filters on the input image, you will have 32 channels as an output from the first convolution layer operation. The last represents the number of filters you want in the second convolution filter. Note that the second key in the biases dictionary, bc2, will have 64 parameters.\n",
        "You will do the same for the third convolution layer.\n",
        "\n",
        "Now, it's important to understand the fourth key (wd1). After applying 3 convolution and max-pooling operations, you are downsampling the input image from 28 x 28 x 1 to 4 x 4 x 1, and now you need to flatten this downsampled output to feed this as input to the fully connected layer. That's why you do the multiplication operation 44128, which is the output of the previous layer or number of channels that are outputted by the convolution layer 3. The second element of the tuple that you pass to shape has number of neurons that you want in the fully connected layer. Similarly, in the biases dictionary, the fourth key bd1 has 128 parameters.\n",
        "\n",
        "\n",
        "\n",
        "You will follow the same logic for the last fully connected layer, in which the number of neurons will be equivalent to the number of classes."
      ]
    },
    {
      "cell_type": "code",
      "metadata": {
        "id": "-bq1h2uVhfgM",
        "colab_type": "code",
        "colab": {
          "base_uri": "https://localhost:8080/",
          "height": 153
        },
        "outputId": "dc64617c-97a2-4c70-b88c-3224c2029314"
      },
      "source": [
        "weights = {\n",
        "    'wc1': tf.get_variable('W0', shape=(3,3,1,32), initializer=tf.contrib.layers.xavier_initializer()),\n",
        "    'wc2': tf.get_variable('W1', shape=(3,3,32,64), initializer=tf.contrib.layers.xavier_initializer()),\n",
        "    'wc3': tf.get_variable('W2', shape=(3,3,64,128), initializer=tf.contrib.layers.xavier_initializer()),\n",
        "    'wd1': tf.get_variable('W3', shape=(4*4*128,128), initializer=tf.contrib.layers.xavier_initializer()),\n",
        "    'out': tf.get_variable('W6', shape=(128,n_classes), initializer=tf.contrib.layers.xavier_initializer()),\n",
        "}\n",
        "biases = {\n",
        "    'bc1': tf.get_variable('B0', shape=(32), initializer=tf.contrib.layers.xavier_initializer()),\n",
        "    'bc2': tf.get_variable('B1', shape=(64), initializer=tf.contrib.layers.xavier_initializer()),\n",
        "    'bc3': tf.get_variable('B2', shape=(128), initializer=tf.contrib.layers.xavier_initializer()),\n",
        "    'bd1': tf.get_variable('B3', shape=(128), initializer=tf.contrib.layers.xavier_initializer()),\n",
        "    'out': tf.get_variable('B4', shape=(10), initializer=tf.contrib.layers.xavier_initializer()),\n",
        "}"
      ],
      "execution_count": 19,
      "outputs": [
        {
          "output_type": "stream",
          "text": [
            "WARNING:tensorflow:\n",
            "The TensorFlow contrib module will not be included in TensorFlow 2.0.\n",
            "For more information, please see:\n",
            "  * https://github.com/tensorflow/community/blob/master/rfcs/20180907-contrib-sunset.md\n",
            "  * https://github.com/tensorflow/addons\n",
            "  * https://github.com/tensorflow/io (for I/O related ops)\n",
            "If you depend on functionality not listed there, please file an issue.\n",
            "\n"
          ],
          "name": "stdout"
        }
      ]
    },
    {
      "cell_type": "markdown",
      "metadata": {
        "id": "3Di_kqVbkBqM",
        "colab_type": "text"
      },
      "source": [
        "Now, it's time to define the network architecture! Unfortunately, this is not as simple as you do it in the Keras framework!\n",
        "\n",
        "The conv_net() function takes 3 arguments as an input: the input x and the weights and biases dictionaries. Again, let's go through the construction of the network step by step:\n",
        "\n",
        "Firstly, you reshape the 784-dimensional input vector to a 28 x 28 x 1 matrix. As you had seen earlier, the images are loaded as a 784-dimensional vector, but you will feed the input to your model as a matrix of size 28 x 28 x 1. The -1 in the reshape() function means that it will infer the first dimension on its own, but the rest of the dimensions are fixed, that is, 28 x 28 x 1.\n",
        "Next, as shown in the figure of the architecture of the model, you will define conv1, which takes input as an image, weights wc1, and biases bc1. Next, you apply max-pooling on the output of conv1, and you will perform a process analogous to this until conv3.\n",
        "Since your task is to classify, given an image, it belongs to which class label. So, after you pass through all the convolution and max-pooling layers, you will flatten the output of conv3. Next, you'll connect the flattened conv3 neurons with each and every neuron in the next layer. Then you will apply activation function on the output of the fully connected layer fc1.\n",
        "Finally, in the last layer, you will have 10 neurons since you have to classify 10 labels. That means that you will connect all the neurons of fc1 in the output layer with 10 neurons in the last layer."
      ]
    },
    {
      "cell_type": "code",
      "metadata": {
        "id": "ZFe1b4JRkgyX",
        "colab_type": "code",
        "colab": {}
      },
      "source": [
        "def conv_net(x, weights, biases):  \n",
        "\n",
        "    # here we call the conv2d function we had defined above and pass the input image x, weights wc1 and bias bc1.\n",
        "    conv1 = conv2d(x, weights['wc1'], biases['bc1'])\n",
        "    # Max Pooling (down-sampling), this chooses the max value from a 2*2 matrix window and outputs a 14*14 matrix.\n",
        "    conv1 = maxpool2d(conv1, k=2)\n",
        "\n",
        "    # Convolution Layer\n",
        "    # here we call the conv2d function we had defined above and pass the input image x, weights wc2 and bias bc2.\n",
        "    conv2 = conv2d(conv1, weights['wc2'], biases['bc2'])\n",
        "    # Max Pooling (down-sampling), this chooses the max value from a 2*2 matrix window and outputs a 7*7 matrix.\n",
        "    conv2 = maxpool2d(conv2, k=2)\n",
        "\n",
        "    conv3 = conv2d(conv2, weights['wc3'], biases['bc3'])\n",
        "    # Max Pooling (down-sampling), this chooses the max value from a 2*2 matrix window and outputs a 4*4.\n",
        "    conv3 = maxpool2d(conv3, k=2)\n",
        "\n",
        "\n",
        "    # Fully connected layer\n",
        "    # Reshape conv2 output to fit fully connected layer input\n",
        "    fc1 = tf.reshape(conv3, [-1, weights['wd1'].get_shape().as_list()[0]])\n",
        "    fc1 = tf.add(tf.matmul(fc1, weights['wd1']), biases['bd1'])\n",
        "    fc1 = tf.nn.relu(fc1)\n",
        "    # Output, class prediction\n",
        "    # finally we multiply the fully connected layer with the weights and add a bias term.\n",
        "    out = tf.add(tf.matmul(fc1, weights['out']), biases['out'])\n",
        "    return out"
      ],
      "execution_count": 20,
      "outputs": []
    },
    {
      "cell_type": "markdown",
      "metadata": {
        "id": "wEl682JZk3k7",
        "colab_type": "text"
      },
      "source": [
        "## Loss and Optimizer Nodes\n",
        "You will start with constructing a model and call the conv_net() function by passing in input x, weights, and biases. Since this is a multi-class classification problem, you will use softmax activation on the output layer. This will give you probabilities for each class label. The loss function you use is cross-entropy.\n",
        "\n",
        "The reason you use cross-entropy as a loss function is that the cross-entropy function's value is always positive, and tends toward zero as the neuron gets better at computing the desired output, y, for all training inputs, x. These are both properties you would intuitively expect for a cost function. It avoids the problem of learning to slow down, which means that if the weights and biases are initialized in a wrong fashion, it helps in recovering faster and does not hamper much of the training phase.\n",
        "\n",
        "In TensorFlow, you define both the activation and the cross-entropy loss functions in one line. You pass two parameters, which are the predicted output and the ground truth label y. You will then take the mean (reduce_mean), which will compute the mean loss over all instances in a single batch and not the average over all the batches since you will be training your model in a mini-batch fashion.\n",
        "\n",
        "Next, you define one of the most popular optimization algorithms: Adam optimizer. You can read more about the optimizer from here, and you specify the learning rate by explicitly stating how to minimize the cost you had calculated in the previous step."
      ]
    },
    {
      "cell_type": "code",
      "metadata": {
        "id": "86O6_nlMlCQf",
        "colab_type": "code",
        "colab": {
          "base_uri": "https://localhost:8080/",
          "height": 173
        },
        "outputId": "1029d3e6-9f21-47cd-ecb8-844176a0c673"
      },
      "source": [
        "pred = conv_net(x, weights, biases)\n",
        "\n",
        "cost = tf.reduce_mean(tf.nn.softmax_cross_entropy_with_logits(logits=pred, labels=y))\n",
        "\n",
        "optimizer = tf.train.AdamOptimizer(learning_rate=learning_rate).minimize(cost)"
      ],
      "execution_count": 21,
      "outputs": [
        {
          "output_type": "stream",
          "text": [
            "WARNING:tensorflow:From <ipython-input-21-989f812044df>:3: softmax_cross_entropy_with_logits (from tensorflow.python.ops.nn_ops) is deprecated and will be removed in a future version.\n",
            "Instructions for updating:\n",
            "\n",
            "Future major versions of TensorFlow will allow gradients to flow\n",
            "into the labels input on backprop by default.\n",
            "\n",
            "See `tf.nn.softmax_cross_entropy_with_logits_v2`.\n",
            "\n"
          ],
          "name": "stdout"
        }
      ]
    },
    {
      "cell_type": "markdown",
      "metadata": {
        "id": "M8hnBmyRlQU5",
        "colab_type": "text"
      },
      "source": [
        "## Evaluate Model Node\n",
        "To test your model, let's define two more nodes: correct_prediction and accuracy. It will evaluate your model after every training iteration, which will help you keep track of your model's performance. After every iteration, the model is tested on the 10,000 testing images, which will not be seen in the training phase.\n",
        "\n",
        "You can always save the graph and run the testing part later as well. But for now, you will test within the session."
      ]
    },
    {
      "cell_type": "code",
      "metadata": {
        "id": "oBoB13ejlSiI",
        "colab_type": "code",
        "colab": {}
      },
      "source": [
        "#Here, you check whether the index of the maximum value of the predicted image is equal to the actual labeled image. And both will be a column vector.\n",
        "correct_prediction = tf.equal(tf.argmax(pred, 1), tf.argmax(y, 1))\n",
        "\n",
        "#calculate accuracy across all the given images and average them out.\n",
        "accuracy = tf.reduce_mean(tf.cast(correct_prediction, tf.float32))"
      ],
      "execution_count": 22,
      "outputs": []
    },
    {
      "cell_type": "markdown",
      "metadata": {
        "id": "qLES-fqElZ0i",
        "colab_type": "text"
      },
      "source": [
        "Remember that your weights and biases are variables and that you have to initialize them before you can make use of them. So let's do that with the following line of code:"
      ]
    },
    {
      "cell_type": "code",
      "metadata": {
        "id": "BV_O0dw0le9o",
        "colab_type": "code",
        "colab": {}
      },
      "source": [
        "# Initializing the variables\n",
        "init = tf.global_variables_initializer()"
      ],
      "execution_count": 23,
      "outputs": []
    },
    {
      "cell_type": "markdown",
      "metadata": {
        "id": "zcYFGajslr7B",
        "colab_type": "text"
      },
      "source": [
        "## Training and Testing the Model\n",
        "When you train and test your model in TensorFlow, you go through the following steps:\n",
        "\n",
        "You start by launching the graph. This is a class that runs all the TensorFlow operations and launches the graph in a session. All the operations have to be within the indentation.\n",
        "Then, you run the session, which will execute the initialized variables in the previous step and evaluate the tensor.\n",
        "Next, you define a for loop that runs for the number of training iterations you had specified in the beginning.\n",
        "\n",
        "Right after that, you'll initiate a second for loop, which is for the number of batches that you will have based on the batch size you chose, so you divide the total number of images by the batch size.\n",
        "\n",
        "You will then input the images based on the batch size you pass in batch_x and their respective labels in batch_y.\n",
        "Now is the most important step. Just like you ran the initializer after creating the graph, now you feed the placeholders x and y the actual data in a dictionary and run the session by passing the cost and the accuracy that you had defined earlier. It returns the loss (cost) and accuracy.\n",
        "You can print the loss and training accuracy after each epoch (training iteration) is completed.\n",
        "After each training iteration is completed, you run only the accuracy by passing all of the 10000 test images and labels. This will give you an idea of how accurately your model is performing while it is training.\n",
        "It's usually recommended to do the testing once your model is trained completely and validate only while it is in the training phase after each epoch. However, let's stick with this approach for now."
      ]
    },
    {
      "cell_type": "code",
      "metadata": {
        "id": "v24UmflBluOD",
        "colab_type": "code",
        "colab": {
          "base_uri": "https://localhost:8080/",
          "height": 527
        },
        "outputId": "7f000f1c-f645-4c18-afb2-2e85c415e564"
      },
      "source": [
        "with tf.Session() as sess:\n",
        "    sess.run(init)\n",
        "    train_loss = []\n",
        "    test_loss = []\n",
        "    train_accuracy = []\n",
        "    test_accuracy = []\n",
        "    summary_writer = tf.summary.FileWriter('./Output', sess.graph)\n",
        "    for i in range(training_iters):\n",
        "        for batch in range(len(train_X)//batch_size):\n",
        "            batch_x = train_X[batch*batch_size:min((batch+1)*batch_size,len(train_X))]\n",
        "            batch_y = train_y[batch*batch_size:min((batch+1)*batch_size,len(train_y))]    \n",
        "            # Run optimization op (backprop).\n",
        "                # Calculate batch loss and accuracy\n",
        "            opt = sess.run(optimizer, feed_dict={x: batch_x,\n",
        "                                                              y: batch_y})\n",
        "            loss, acc = sess.run([cost, accuracy], feed_dict={x: batch_x,\n",
        "                                                              y: batch_y})\n",
        "        print(\"Iter \" + str(i) + \", Loss= \" + \\\n",
        "                      \"{:.6f}\".format(loss) + \", Training Accuracy= \" + \\\n",
        "                      \"{:.5f}\".format(acc))\n",
        "        print(\"Optimization Finished!\")\n",
        "\n",
        "        # Calculate accuracy for all 10000 mnist test images\n",
        "        test_acc,valid_loss = sess.run([accuracy,cost], feed_dict={x: test_X,y : test_y})\n",
        "        train_loss.append(loss)\n",
        "        test_loss.append(valid_loss)\n",
        "        train_accuracy.append(acc)\n",
        "        test_accuracy.append(test_acc)\n",
        "        print(\"Testing Accuracy:\",\"{:.5f}\".format(test_acc))\n",
        "    summary_writer.close()"
      ],
      "execution_count": 24,
      "outputs": [
        {
          "output_type": "stream",
          "text": [
            "Iter 0, Loss= 0.320162, Training Accuracy= 0.85938\n",
            "Optimization Finished!\n",
            "Testing Accuracy: 0.85150\n",
            "Iter 1, Loss= 0.223820, Training Accuracy= 0.91406\n",
            "Optimization Finished!\n",
            "Testing Accuracy: 0.86490\n",
            "Iter 2, Loss= 0.179552, Training Accuracy= 0.95312\n",
            "Optimization Finished!\n",
            "Testing Accuracy: 0.87930\n",
            "Iter 3, Loss= 0.157575, Training Accuracy= 0.96094\n",
            "Optimization Finished!\n",
            "Testing Accuracy: 0.88920\n",
            "Iter 4, Loss= 0.138838, Training Accuracy= 0.96875\n",
            "Optimization Finished!\n",
            "Testing Accuracy: 0.89420\n",
            "Iter 5, Loss= 0.135637, Training Accuracy= 0.97656\n",
            "Optimization Finished!\n",
            "Testing Accuracy: 0.89520\n",
            "Iter 6, Loss= 0.127247, Training Accuracy= 0.97656\n",
            "Optimization Finished!\n",
            "Testing Accuracy: 0.89760\n",
            "Iter 7, Loss= 0.118291, Training Accuracy= 0.96875\n",
            "Optimization Finished!\n",
            "Testing Accuracy: 0.89530\n",
            "Iter 8, Loss= 0.104561, Training Accuracy= 0.96875\n",
            "Optimization Finished!\n",
            "Testing Accuracy: 0.89630\n",
            "Iter 9, Loss= 0.088016, Training Accuracy= 0.97656\n",
            "Optimization Finished!\n",
            "Testing Accuracy: 0.89610\n"
          ],
          "name": "stdout"
        }
      ]
    },
    {
      "cell_type": "code",
      "metadata": {
        "id": "PJcgUZYlmlXx",
        "colab_type": "code",
        "colab": {
          "base_uri": "https://localhost:8080/",
          "height": 317
        },
        "outputId": "4c23e89f-d98d-4e20-b30c-03b2b5d099bc"
      },
      "source": [
        "plt.plot(range(len(train_loss)), train_loss, 'b', label='Training loss')\n",
        "plt.plot(range(len(train_loss)), test_loss, 'r', label='Test loss')\n",
        "plt.title('Training and Test loss')\n",
        "plt.xlabel('Epochs ',fontsize=16)\n",
        "plt.ylabel('Loss',fontsize=16)\n",
        "plt.legend()\n",
        "plt.figure()\n",
        "plt.show()"
      ],
      "execution_count": 25,
      "outputs": [
        {
          "output_type": "display_data",
          "data": {
            "image/png": "[encoded data removed]",
            "text/plain": [
              "<Figure size 432x288 with 1 Axes>"
            ]
          },
          "metadata": {
            "tags": [],
            "needs_background": "light"
          }
        },
        {
          "output_type": "display_data",
          "data": {
            "text/plain": [
              "<Figure size 432x288 with 0 Axes>"
            ]
          },
          "metadata": {
            "tags": []
          }
        }
      ]
    },
    {
      "cell_type": "code",
      "metadata": {
        "id": "Ev_20PrymuPg",
        "colab_type": "code",
        "colab": {
          "base_uri": "https://localhost:8080/",
          "height": 317
        },
        "outputId": "723ce064-2e73-4de5-a870-2caf3c97ccd1"
      },
      "source": [
        "plt.plot(range(len(train_loss)), train_accuracy, 'b', label='Training Accuracy')\n",
        "plt.plot(range(len(train_loss)), test_accuracy, 'r', label='Test Accuracy')\n",
        "plt.title('Training and Test Accuracy')\n",
        "plt.xlabel('Epochs ',fontsize=16)\n",
        "plt.ylabel('Loss',fontsize=16)\n",
        "plt.legend()\n",
        "plt.figure()\n",
        "plt.show()"
      ],
      "execution_count": 26,
      "outputs": [
        {
          "output_type": "display_data",
          "data": {
            "image/png": "[encoded data removed]",
            "text/plain": [
              "<Figure size 432x288 with 1 Axes>"
            ]
          },
          "metadata": {
            "tags": [],
            "needs_background": "light"
          }
        },
        {
          "output_type": "display_data",
          "data": {
            "text/plain": [
              "<Figure size 432x288 with 0 Axes>"
            ]
          },
          "metadata": {
            "tags": []
          }
        }
      ]
    }
  ]
}